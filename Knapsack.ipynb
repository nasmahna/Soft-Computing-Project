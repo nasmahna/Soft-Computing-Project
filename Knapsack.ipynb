{
 "cells": [
  {
   "attachments": {},
   "cell_type": "markdown",
   "metadata": {},
   "source": [
    "## 8.2"
   ]
  },
  {
   "cell_type": "code",
   "execution_count": 45,
   "metadata": {},
   "outputs": [],
   "source": [
    "import numpy as np\n",
    "import random\n",
    "import matplotlib.pyplot as plt"
   ]
  },
  {
   "attachments": {},
   "cell_type": "markdown",
   "metadata": {},
   "source": [
    "## 8.3"
   ]
  },
  {
   "cell_type": "code",
   "execution_count": 46,
   "metadata": {},
   "outputs": [],
   "source": [
    "# init parameter Ga\n",
    "list_brng = [[5,20],[7,90],[3,50],[6,60],[1,100],[9,30],[4,30],[4,30],[6,70],[4,50]]\n",
    "\n",
    "# prioritasi\n",
    "max_weight = 25\n",
    "uk_populasi = 50\n",
    "max_generasi = 100\n",
    "bts_bawah = 0\n",
    "bts_atas = 15\n",
    "jum_var = len(list_brng)\n",
    "jum_gen_per_var = 1\n",
    "jum_gen = jum_var * jum_gen_per_var\n",
    "pc = 0.8\n",
    "pm = 1/jum_gen\n",
    "best_kromosom = []\n",
    "best_fitness = 0\n",
    "best_genotipe = []\n",
    "list_best_fitness = []\n",
    "max_fitness = 99999"
   ]
  },
  {
   "attachments": {},
   "cell_type": "markdown",
   "metadata": {},
   "source": [
    "## 8.4"
   ]
  },
  {
   "cell_type": "code",
   "execution_count": 47,
   "metadata": {},
   "outputs": [],
   "source": [
    "# init populasi biner\n",
    "kromosom = np.round(np.random.rand(uk_populasi,jum_gen))"
   ]
  },
  {
   "attachments": {},
   "cell_type": "markdown",
   "metadata": {},
   "source": [
    "## 8.5\n"
   ]
  },
  {
   "cell_type": "code",
   "execution_count": 48,
   "metadata": {},
   "outputs": [],
   "source": [
    "def hitung_fitness(x,list_brg,max_weight):\n",
    "    total_weight = 0\n",
    "    for i in range(len(x)):\n",
    "        total_weight += x[i]*list_brg[i][0]\n",
    "    fitness = 0\n",
    "    if (total_weight <= max_weight):\n",
    "        for j in range(len(x)):\n",
    "            fitness += x[j]*list_brg[j][1]\n",
    "        fitness -= (max_weight - total_weight)\n",
    "    else:\n",
    "        fitness = 0\n",
    "    return fitness,total_weight"
   ]
  },
  {
   "attachments": {},
   "cell_type": "markdown",
   "metadata": {},
   "source": [
    "## 8.6"
   ]
  },
  {
   "cell_type": "code",
   "execution_count": 49,
   "metadata": {},
   "outputs": [],
   "source": [
    "def linear_fitness_ranking(fitness):\n",
    "    sort_fitness = sorted(fitness)\n",
    "    max_fitness = sort_fitness[-1]\n",
    "    min_fitness = sort_fitness[0]\n",
    "    LFR =[]\n",
    "    for i in range(uk_populasi):\n",
    "        LFR.append(max_fitness - (max_fitness - min_fitness)* ((i+1)-1)/(uk_populasi-1))\n",
    "    return LFR"
   ]
  },
  {
   "attachments": {},
   "cell_type": "markdown",
   "metadata": {},
   "source": [
    "## 8.7"
   ]
  },
  {
   "cell_type": "code",
   "execution_count": 50,
   "metadata": {},
   "outputs": [],
   "source": [
    "def roulette_wheel (krom,fitness):\n",
    "    LFR = linear_fitness_ranking(fitness)\n",
    "    kumulatif_fitness = 0\n",
    "    acak = random.uniform(0,1)\n",
    "    idx_induk = 0\n",
    "    for i in range(uk_populasi):\n",
    "        kumulatif_fitness = kumulatif_fitness + LFR[i]/sum(LFR)\n",
    "        if (kumulatif_fitness > acak):\n",
    "            idx_induk = i\n",
    "            break\n",
    "    return idx_induk"
   ]
  },
  {
   "attachments": {},
   "cell_type": "markdown",
   "metadata": {},
   "source": [
    "## 8.8"
   ]
  },
  {
   "cell_type": "code",
   "execution_count": 51,
   "metadata": {},
   "outputs": [],
   "source": [
    "def crossover_1_titik(krom1,krom2):\n",
    "    krom1 = list(krom1)\n",
    "    krom2 = list(krom2)\n",
    "    \n",
    "    titik = int(np.fix(np.random.rand()*jum_gen)+1)\n",
    "    \n",
    "    anak1 = krom1[0:titik] + krom2[titik:]\n",
    "    anak2 = krom2[0:titik] + krom1[titik:]\n",
    "    \n",
    "    return anak1,anak2"
   ]
  },
  {
   "attachments": {},
   "cell_type": "markdown",
   "metadata": {},
   "source": [
    "## 8.9"
   ]
  },
  {
   "cell_type": "code",
   "execution_count": 52,
   "metadata": {},
   "outputs": [],
   "source": [
    "def crossover_N_titik(krom1,krom2,jum_titik_ptg):\n",
    "    krom1 = list(krom1)\n",
    "    krom2 = list(krom2)\n",
    "    batas = 0\n",
    "    titik = []\n",
    "    pembagi = int(np.fix(jum_gen/jum_titik_ptg))\n",
    "    for i in range(jum_titik_ptg):\n",
    "        acak = int(np.fix(np.random.rand()*pembagi)+1)\n",
    "        batas = batas + acak\n",
    "        titik.append(batas)\n",
    "    titik.append(jum_gen)\n",
    "    \n",
    "    anak1 = []\n",
    "    anak2 = []\n",
    "    idx = 0\n",
    "    for i in range(len(titik)):\n",
    "        #tukar gen selang seling antara krom1 dan krom2\n",
    "        if (i % 2 == 0):\n",
    "            anak1 = anak1 + krom1[idx:titik[i]]\n",
    "            anak2 = anak2 + krom2[idx:titik[i]]\n",
    "        else:\n",
    "            anak1 = anak1 + krom2[idx:titik[i]]\n",
    "            anak2 = anak2 + krom1[idx:titik[i]]\n",
    "        idx = titik[i]\n",
    "    return anak1, anak2"
   ]
  },
  {
   "attachments": {},
   "cell_type": "markdown",
   "metadata": {},
   "source": [
    "## 8.10"
   ]
  },
  {
   "cell_type": "code",
   "execution_count": 53,
   "metadata": {},
   "outputs": [],
   "source": [
    "def crossover_uniform(krom1,krom2):\n",
    "    pola = np.round(np.random.rand(jum_gen))\n",
    "    anak1 = krom1\n",
    "    anak2 = krom2\n",
    "    for i in range(jum_gen):\n",
    "        if (pola[i] == 1):\n",
    "            anak1[i],anak2[i] = anak2[i],anak1[i]\n",
    "    return anak1,anak2"
   ]
  },
  {
   "attachments": {},
   "cell_type": "markdown",
   "metadata": {},
   "source": [
    "## 8.11"
   ]
  },
  {
   "cell_type": "code",
   "execution_count": 54,
   "metadata": {},
   "outputs": [],
   "source": [
    "def mutasi_biner(krom):\n",
    "  acak = random.uniform(0,1)\n",
    "  for j in range(jum_gen):\n",
    "    if (acak <= pm):\n",
    "      krom[j] = 1 - krom[j]\n",
    "  return krom"
   ]
  },
  {
   "attachments": {},
   "cell_type": "markdown",
   "metadata": {},
   "source": [
    "## 8.12"
   ]
  },
  {
   "cell_type": "code",
   "execution_count": 55,
   "metadata": {},
   "outputs": [
    {
     "name": "stdout",
     "output_type": "stream",
     "text": [
      "Generasi ke-0==>[0. 0. 1. 1. 1. 0. 1. 0. 1. 1.]=359.0 (24.0kg)\n",
      "Generasi ke-1==>[0.0, 1.0, 0.0, 1.0, 1.0, 0.0, 0.0, 0.0, 1.0, 1.0]=369.0 (24.0kg)\n",
      "Generasi ke-2==>[0.0, 1.0, 0.0, 1.0, 1.0, 0.0, 0.0, 0.0, 1.0, 1.0]=369.0 (24.0kg)\n",
      "Generasi ke-3==>[0.0, 1.0, 0.0, 1.0, 1.0, 0.0, 0.0, 0.0, 1.0, 1.0]=369.0 (24.0kg)\n",
      "Generasi ke-4==>[0.0, 1.0, 0.0, 1.0, 1.0, 0.0, 0.0, 0.0, 1.0, 1.0]=369.0 (24.0kg)\n",
      "Generasi ke-5==>[0.0, 1.0, 0.0, 1.0, 1.0, 0.0, 0.0, 0.0, 1.0, 1.0]=369.0 (24.0kg)\n",
      "Generasi ke-6==>[0.0, 1.0, 0.0, 1.0, 1.0, 0.0, 0.0, 0.0, 1.0, 1.0]=369.0 (24.0kg)\n",
      "Generasi ke-7==>[0.0, 1.0, 0.0, 1.0, 1.0, 0.0, 0.0, 0.0, 1.0, 1.0]=369.0 (24.0kg)\n",
      "Generasi ke-8==>[0.0, 1.0, 0.0, 1.0, 1.0, 0.0, 0.0, 0.0, 1.0, 1.0]=369.0 (24.0kg)\n",
      "Generasi ke-9==>[0.0, 1.0, 0.0, 1.0, 1.0, 0.0, 0.0, 0.0, 1.0, 1.0]=369.0 (24.0kg)\n",
      "Generasi ke-10==>[0.0, 1.0, 0.0, 1.0, 1.0, 0.0, 0.0, 0.0, 1.0, 1.0]=369.0 (24.0kg)\n",
      "Generasi ke-11==>[0.0, 1.0, 0.0, 1.0, 1.0, 0.0, 0.0, 0.0, 1.0, 1.0]=369.0 (24.0kg)\n",
      "Generasi ke-12==>[0.0, 1.0, 0.0, 1.0, 1.0, 0.0, 0.0, 0.0, 1.0, 1.0]=369.0 (24.0kg)\n",
      "Generasi ke-13==>[0.0, 1.0, 0.0, 1.0, 1.0, 0.0, 0.0, 0.0, 1.0, 1.0]=369.0 (24.0kg)\n",
      "Generasi ke-14==>[0.0, 1.0, 0.0, 1.0, 1.0, 0.0, 0.0, 0.0, 1.0, 1.0]=369.0 (24.0kg)\n",
      "Generasi ke-15==>[0.0, 1.0, 0.0, 1.0, 1.0, 0.0, 0.0, 0.0, 1.0, 1.0]=369.0 (24.0kg)\n",
      "Generasi ke-16==>[0.0, 1.0, 0.0, 1.0, 1.0, 0.0, 0.0, 0.0, 1.0, 1.0]=369.0 (24.0kg)\n",
      "Generasi ke-17==>[0.0, 1.0, 0.0, 1.0, 1.0, 0.0, 0.0, 0.0, 1.0, 1.0]=369.0 (24.0kg)\n",
      "Generasi ke-18==>[0.0, 1.0, 0.0, 1.0, 1.0, 0.0, 0.0, 0.0, 1.0, 1.0]=369.0 (24.0kg)\n",
      "Generasi ke-19==>[0.0, 1.0, 0.0, 1.0, 1.0, 0.0, 0.0, 0.0, 1.0, 1.0]=369.0 (24.0kg)\n",
      "Generasi ke-20==>[0.0, 1.0, 0.0, 1.0, 1.0, 0.0, 0.0, 0.0, 1.0, 1.0]=369.0 (24.0kg)\n",
      "Generasi ke-21==>[0.0, 1.0, 0.0, 1.0, 1.0, 0.0, 0.0, 0.0, 1.0, 1.0]=369.0 (24.0kg)\n",
      "Generasi ke-22==>[0.0, 1.0, 0.0, 1.0, 1.0, 0.0, 0.0, 0.0, 1.0, 1.0]=369.0 (24.0kg)\n",
      "Generasi ke-23==>[0.0, 1.0, 0.0, 1.0, 1.0, 0.0, 0.0, 0.0, 1.0, 1.0]=369.0 (24.0kg)\n",
      "Generasi ke-24==>[0.0, 1.0, 0.0, 1.0, 1.0, 0.0, 0.0, 0.0, 1.0, 1.0]=369.0 (24.0kg)\n",
      "Generasi ke-25==>[0.0, 1.0, 0.0, 1.0, 1.0, 0.0, 0.0, 0.0, 1.0, 1.0]=369.0 (24.0kg)\n",
      "Generasi ke-26==>[0.0, 1.0, 0.0, 1.0, 1.0, 0.0, 0.0, 0.0, 1.0, 1.0]=369.0 (24.0kg)\n",
      "Generasi ke-27==>[0.0, 1.0, 0.0, 1.0, 1.0, 0.0, 0.0, 0.0, 1.0, 1.0]=369.0 (24.0kg)\n",
      "Generasi ke-28==>[0.0, 1.0, 0.0, 1.0, 1.0, 0.0, 0.0, 0.0, 1.0, 1.0]=369.0 (24.0kg)\n",
      "Generasi ke-29==>[0.0, 1.0, 0.0, 1.0, 1.0, 0.0, 0.0, 0.0, 1.0, 1.0]=369.0 (24.0kg)\n",
      "Generasi ke-30==>[0.0, 1.0, 0.0, 1.0, 1.0, 0.0, 0.0, 0.0, 1.0, 1.0]=369.0 (24.0kg)\n",
      "Generasi ke-31==>[0.0, 1.0, 0.0, 1.0, 1.0, 0.0, 0.0, 0.0, 1.0, 1.0]=369.0 (24.0kg)\n",
      "Generasi ke-32==>[0.0, 1.0, 0.0, 1.0, 1.0, 0.0, 0.0, 0.0, 1.0, 1.0]=369.0 (24.0kg)\n",
      "Generasi ke-33==>[0.0, 1.0, 0.0, 1.0, 1.0, 0.0, 0.0, 0.0, 1.0, 1.0]=369.0 (24.0kg)\n",
      "Generasi ke-34==>[0.0, 1.0, 0.0, 1.0, 1.0, 0.0, 0.0, 0.0, 1.0, 1.0]=369.0 (24.0kg)\n",
      "Generasi ke-35==>[0.0, 1.0, 0.0, 1.0, 1.0, 0.0, 0.0, 0.0, 1.0, 1.0]=369.0 (24.0kg)\n",
      "Generasi ke-36==>[0.0, 1.0, 0.0, 1.0, 1.0, 0.0, 0.0, 0.0, 1.0, 1.0]=369.0 (24.0kg)\n",
      "Generasi ke-37==>[0.0, 1.0, 0.0, 1.0, 1.0, 0.0, 0.0, 0.0, 1.0, 1.0]=369.0 (24.0kg)\n",
      "Generasi ke-38==>[0.0, 1.0, 0.0, 1.0, 1.0, 0.0, 0.0, 0.0, 1.0, 1.0]=369.0 (24.0kg)\n",
      "Generasi ke-39==>[0.0, 1.0, 0.0, 1.0, 1.0, 0.0, 0.0, 0.0, 1.0, 1.0]=369.0 (24.0kg)\n",
      "Generasi ke-40==>[0.0, 1.0, 0.0, 1.0, 1.0, 0.0, 0.0, 0.0, 1.0, 1.0]=369.0 (24.0kg)\n",
      "Generasi ke-41==>[0.0, 1.0, 0.0, 1.0, 1.0, 0.0, 0.0, 0.0, 1.0, 1.0]=369.0 (24.0kg)\n",
      "Generasi ke-42==>[0.0, 1.0, 0.0, 1.0, 1.0, 0.0, 0.0, 0.0, 1.0, 1.0]=369.0 (24.0kg)\n",
      "Generasi ke-43==>[0.0, 1.0, 0.0, 1.0, 1.0, 0.0, 0.0, 0.0, 1.0, 1.0]=369.0 (24.0kg)\n",
      "Generasi ke-44==>[0.0, 1.0, 0.0, 1.0, 1.0, 0.0, 0.0, 0.0, 1.0, 1.0]=369.0 (24.0kg)\n",
      "Generasi ke-45==>[0.0, 1.0, 0.0, 1.0, 1.0, 0.0, 0.0, 0.0, 1.0, 1.0]=369.0 (24.0kg)\n",
      "Generasi ke-46==>[0.0, 1.0, 0.0, 1.0, 1.0, 0.0, 0.0, 0.0, 1.0, 1.0]=369.0 (24.0kg)\n",
      "Generasi ke-47==>[0.0, 1.0, 0.0, 1.0, 1.0, 0.0, 0.0, 0.0, 1.0, 1.0]=369.0 (24.0kg)\n",
      "Generasi ke-48==>[0.0, 1.0, 0.0, 1.0, 1.0, 0.0, 0.0, 0.0, 1.0, 1.0]=369.0 (24.0kg)\n",
      "Generasi ke-49==>[0.0, 1.0, 0.0, 1.0, 1.0, 0.0, 0.0, 0.0, 1.0, 1.0]=369.0 (24.0kg)\n",
      "Generasi ke-50==>[0.0, 1.0, 0.0, 1.0, 1.0, 0.0, 0.0, 0.0, 1.0, 1.0]=369.0 (24.0kg)\n",
      "Generasi ke-51==>[0.0, 1.0, 0.0, 1.0, 1.0, 0.0, 0.0, 0.0, 1.0, 1.0]=369.0 (24.0kg)\n",
      "Generasi ke-52==>[0.0, 1.0, 0.0, 1.0, 1.0, 0.0, 0.0, 0.0, 1.0, 1.0]=369.0 (24.0kg)\n",
      "Generasi ke-53==>[0.0, 1.0, 0.0, 1.0, 1.0, 0.0, 0.0, 0.0, 1.0, 1.0]=369.0 (24.0kg)\n",
      "Generasi ke-54==>[0.0, 1.0, 0.0, 1.0, 1.0, 0.0, 0.0, 0.0, 1.0, 1.0]=369.0 (24.0kg)\n",
      "Generasi ke-55==>[0.0, 1.0, 0.0, 1.0, 1.0, 0.0, 0.0, 0.0, 1.0, 1.0]=369.0 (24.0kg)\n",
      "Generasi ke-56==>[0.0, 1.0, 0.0, 1.0, 1.0, 0.0, 0.0, 0.0, 1.0, 1.0]=369.0 (24.0kg)\n",
      "Generasi ke-57==>[0.0, 1.0, 0.0, 1.0, 1.0, 0.0, 0.0, 0.0, 1.0, 1.0]=369.0 (24.0kg)\n",
      "Generasi ke-58==>[0.0, 1.0, 0.0, 1.0, 1.0, 0.0, 0.0, 0.0, 1.0, 1.0]=369.0 (24.0kg)\n",
      "Generasi ke-59==>[0.0, 1.0, 0.0, 1.0, 1.0, 0.0, 0.0, 0.0, 1.0, 1.0]=369.0 (24.0kg)\n",
      "Generasi ke-60==>[0.0, 1.0, 0.0, 1.0, 1.0, 0.0, 0.0, 0.0, 1.0, 1.0]=369.0 (24.0kg)\n",
      "Generasi ke-61==>[0.0, 1.0, 0.0, 1.0, 1.0, 0.0, 0.0, 0.0, 1.0, 1.0]=369.0 (24.0kg)\n",
      "Generasi ke-62==>[0.0, 1.0, 0.0, 1.0, 1.0, 0.0, 0.0, 0.0, 1.0, 1.0]=369.0 (24.0kg)\n",
      "Generasi ke-63==>[0.0, 1.0, 0.0, 1.0, 1.0, 0.0, 0.0, 0.0, 1.0, 1.0]=369.0 (24.0kg)\n",
      "Generasi ke-64==>[0.0, 1.0, 0.0, 1.0, 1.0, 0.0, 0.0, 0.0, 1.0, 1.0]=369.0 (24.0kg)\n",
      "Generasi ke-65==>[0.0, 1.0, 0.0, 1.0, 1.0, 0.0, 0.0, 0.0, 1.0, 1.0]=369.0 (24.0kg)\n",
      "Generasi ke-66==>[0.0, 1.0, 0.0, 1.0, 1.0, 0.0, 0.0, 0.0, 1.0, 1.0]=369.0 (24.0kg)\n",
      "Generasi ke-67==>[0.0, 1.0, 0.0, 1.0, 1.0, 0.0, 0.0, 0.0, 1.0, 1.0]=369.0 (24.0kg)\n",
      "Generasi ke-68==>[0.0, 1.0, 0.0, 1.0, 1.0, 0.0, 0.0, 0.0, 1.0, 1.0]=369.0 (24.0kg)\n",
      "Generasi ke-69==>[0.0, 1.0, 0.0, 1.0, 1.0, 0.0, 0.0, 0.0, 1.0, 1.0]=369.0 (24.0kg)\n",
      "Generasi ke-70==>[0.0, 1.0, 0.0, 1.0, 1.0, 0.0, 0.0, 0.0, 1.0, 1.0]=369.0 (24.0kg)\n",
      "Generasi ke-71==>[0.0, 1.0, 0.0, 1.0, 1.0, 0.0, 0.0, 0.0, 1.0, 1.0]=369.0 (24.0kg)\n",
      "Generasi ke-72==>[0.0, 1.0, 0.0, 1.0, 1.0, 0.0, 0.0, 0.0, 1.0, 1.0]=369.0 (24.0kg)\n",
      "Generasi ke-73==>[0.0, 1.0, 0.0, 1.0, 1.0, 0.0, 0.0, 0.0, 1.0, 1.0]=369.0 (24.0kg)\n",
      "Generasi ke-74==>[0.0, 1.0, 0.0, 1.0, 1.0, 0.0, 0.0, 0.0, 1.0, 1.0]=369.0 (24.0kg)\n",
      "Generasi ke-75==>[0.0, 1.0, 0.0, 1.0, 1.0, 0.0, 0.0, 0.0, 1.0, 1.0]=369.0 (24.0kg)\n",
      "Generasi ke-76==>[0.0, 1.0, 0.0, 1.0, 1.0, 0.0, 0.0, 0.0, 1.0, 1.0]=369.0 (24.0kg)\n",
      "Generasi ke-77==>[0.0, 1.0, 0.0, 1.0, 1.0, 0.0, 0.0, 0.0, 1.0, 1.0]=369.0 (24.0kg)\n",
      "Generasi ke-78==>[0.0, 1.0, 0.0, 1.0, 1.0, 0.0, 0.0, 0.0, 1.0, 1.0]=369.0 (24.0kg)\n",
      "Generasi ke-79==>[0.0, 1.0, 0.0, 1.0, 1.0, 0.0, 0.0, 0.0, 1.0, 1.0]=369.0 (24.0kg)\n",
      "Generasi ke-80==>[0.0, 1.0, 0.0, 1.0, 1.0, 0.0, 0.0, 0.0, 1.0, 1.0]=369.0 (24.0kg)\n",
      "Generasi ke-81==>[0.0, 1.0, 0.0, 1.0, 1.0, 0.0, 0.0, 0.0, 1.0, 1.0]=369.0 (24.0kg)\n",
      "Generasi ke-82==>[0.0, 1.0, 0.0, 1.0, 1.0, 0.0, 0.0, 0.0, 1.0, 1.0]=369.0 (24.0kg)\n",
      "Generasi ke-83==>[0.0, 1.0, 0.0, 1.0, 1.0, 0.0, 0.0, 0.0, 1.0, 1.0]=369.0 (24.0kg)\n",
      "Generasi ke-84==>[0.0, 1.0, 0.0, 1.0, 1.0, 0.0, 0.0, 0.0, 1.0, 1.0]=369.0 (24.0kg)\n",
      "Generasi ke-85==>[0.0, 1.0, 0.0, 1.0, 1.0, 0.0, 0.0, 0.0, 1.0, 1.0]=369.0 (24.0kg)\n",
      "Generasi ke-86==>[0.0, 1.0, 0.0, 1.0, 1.0, 0.0, 0.0, 0.0, 1.0, 1.0]=369.0 (24.0kg)\n",
      "Generasi ke-87==>[0.0, 1.0, 0.0, 1.0, 1.0, 0.0, 0.0, 0.0, 1.0, 1.0]=369.0 (24.0kg)\n",
      "Generasi ke-88==>[0.0, 1.0, 0.0, 1.0, 1.0, 0.0, 0.0, 0.0, 1.0, 1.0]=369.0 (24.0kg)\n",
      "Generasi ke-89==>[0.0, 1.0, 1.0, 0.0, 1.0, 0.0, 0.0, 1.0, 1.0, 1.0]=390.0 (25.0kg)\n",
      "Generasi ke-90==>[0.0, 1.0, 1.0, 0.0, 1.0, 0.0, 0.0, 1.0, 1.0, 1.0]=390.0 (25.0kg)\n",
      "Generasi ke-91==>[0.0, 1.0, 1.0, 0.0, 1.0, 0.0, 0.0, 1.0, 1.0, 1.0]=390.0 (25.0kg)\n",
      "Generasi ke-92==>[0.0, 1.0, 1.0, 0.0, 1.0, 0.0, 0.0, 1.0, 1.0, 1.0]=390.0 (25.0kg)\n",
      "Generasi ke-93==>[0.0, 1.0, 1.0, 0.0, 1.0, 0.0, 0.0, 1.0, 1.0, 1.0]=390.0 (25.0kg)\n",
      "Generasi ke-94==>[0.0, 1.0, 1.0, 0.0, 1.0, 0.0, 0.0, 1.0, 1.0, 1.0]=390.0 (25.0kg)\n",
      "Generasi ke-95==>[0.0, 1.0, 1.0, 0.0, 1.0, 0.0, 0.0, 1.0, 1.0, 1.0]=390.0 (25.0kg)\n",
      "Generasi ke-96==>[0.0, 1.0, 1.0, 0.0, 1.0, 0.0, 0.0, 1.0, 1.0, 1.0]=390.0 (25.0kg)\n",
      "Generasi ke-97==>[0.0, 1.0, 1.0, 0.0, 1.0, 0.0, 0.0, 1.0, 1.0, 1.0]=390.0 (25.0kg)\n",
      "Generasi ke-98==>[0.0, 1.0, 1.0, 0.0, 1.0, 0.0, 0.0, 1.0, 1.0, 1.0]=390.0 (25.0kg)\n",
      "Generasi ke-99==>[0.0, 1.0, 1.0, 0.0, 1.0, 0.0, 0.0, 1.0, 1.0, 1.0]=390.0 (25.0kg)\n"
     ]
    }
   ],
   "source": [
    "#------------------------------------------------------------------------------------\n",
    "# Proses evolusi kromosom\n",
    "#------------------------------------------------------------------------------------\n",
    "generasi = 0\n",
    "while (generasi < max_generasi and best_fitness < max_fitness):\n",
    "  # evaluasi fitness\n",
    "  fitness = []\n",
    "  for j in range(uk_populasi):\n",
    "    fit, tot = hitung_fitness(kromosom[j], list_brng, max_weight)\n",
    "    fitness.append(fit)\n",
    "\n",
    "    if (best_fitness < fit):\n",
    "      best_fitness = fit\n",
    "      total_berat = tot\n",
    "      idx_best_kromosom = j\n",
    "      best_kromosom = kromosom[j].copy()\n",
    "      best_genotipe = best_kromosom.copy() # Karena tidak ada dekode kromosom\n",
    "\n",
    "  # Simpan best_fitness dari semua kromosom di tiap generasi\n",
    "  list_best_fitness.append(best_fitness)\n",
    "\n",
    "  # tampilkan informasi tiap generasi\n",
    "  print(\"Generasi ke-\" + str(generasi) + \"==>\" + str(best_genotipe) + \"=\" + str(best_fitness) + \" (\" + str(total_berat) + \"kg)\")\n",
    "\n",
    "  # elitisme\n",
    "  kromosom_anak = []\n",
    "  if (uk_populasi % 2 == 0):\n",
    "    kromosom_anak.append(best_kromosom.copy())\n",
    "    kromosom_anak.append(best_kromosom.copy())\n",
    "    iterasi_seleksi = 2\n",
    "  else:\n",
    "    kromosom_anak.append(best_kromosom.copy())\n",
    "    iterasi_seleksi = 1\n",
    "\n",
    "  # seleksi induk/orang tua\n",
    "  idx_induk = []\n",
    "  for i in range(iterasi_seleksi, uk_populasi):\n",
    "    idx_induk.append(roulette_wheel(kromosom, fitness))\n",
    "  random.shuffle(idx_induk)\n",
    "\n",
    "  # crossover kromosom\n",
    "  jum_pasangan_induk = int(len(idx_induk) / 2)\n",
    "  for i in range(jum_pasangan_induk):\n",
    "    induk1 = kromosom[idx_induk[i]].copy()\n",
    "    induk2 = kromosom[idx_induk[i+1]].copy()\n",
    "    acak = random.uniform(0,1)\n",
    "\n",
    "    if (acak <= pc):\n",
    "      anak1, anak2 = crossover_1_titik(induk1, induk2)\n",
    "      # anak1, anak2 = crossover_n_titik(induk1, induk2, jum_titik_potong=3)\n",
    "      # anak1, anak2 = crossover_uniform(induk1, induk 2)\n",
    "      kromosom_anak.append(anak1.copy())\n",
    "      kromosom_anak.append(anak2.copy())\n",
    "    else:\n",
    "      kromosom_anak.append(induk1.copy())\n",
    "      kromosom_anak.append(induk2.copy())\n",
    "    i += 2\n",
    "  \n",
    "  # mutasi kromosom (kromosom elit tidak dimutasi)\n",
    "  for i in range(iterasi_seleksi, uk_populasi):\n",
    "    kromosom_anak[i] = mutasi_biner(kromosom_anak[i])\n",
    "  \n",
    "  # generational replacement\n",
    "  kromosom = kromosom_anak.copy()\n",
    "\n",
    "  generasi += 1"
   ]
  },
  {
   "attachments": {},
   "cell_type": "markdown",
   "metadata": {},
   "source": [
    "## 8.13\n"
   ]
  },
  {
   "cell_type": "code",
   "execution_count": 57,
   "metadata": {},
   "outputs": [
    {
     "name": "stdout",
     "output_type": "stream",
     "text": [
      "[0.0, 1.0, 1.0, 0.0, 1.0, 0.0, 0.0, 1.0, 1.0, 1.0] = 390.0 (47) (25.0kg)\n",
      "Best Kromosom = [0.0, 1.0, 1.0, 0.0, 1.0, 0.0, 0.0, 1.0, 1.0, 1.0]\n"
     ]
    },
    {
     "data": {
      "image/png": "[encoded data removed]",
      "text/plain": [
       "<Figure size 432x288 with 1 Axes>"
      ]
     },
     "metadata": {
      "needs_background": "light"
     },
     "output_type": "display_data"
    },
    {
     "name": "stderr",
     "output_type": "stream",
     "text": [
      "C:\\Users\\ASUS\\AppData\\Local\\Temp\\ipykernel_16624\\2870174386.py:7: UserWarning: Matplotlib is currently using module://matplotlib_inline.backend_inline, which is a non-GUI backend, so cannot show the figure.\n",
      "  plt.waitforbuttonpress()\n"
     ]
    }
   ],
   "source": [
    "# tampilkan hasil optimasi\n",
    "print(str(best_genotipe) + \" = \" + str(best_fitness) + \" (\" + str(idx_best_kromosom) + \")\" + \" (\" + str(total_berat) + \"kg)\")\n",
    "print(\"Best Kromosom = \" + str(best_kromosom))\n",
    "plt.title(\"Grafik Evolusi Algoritma Genetika\")\n",
    "plt.plot(list_best_fitness)\n",
    "plt.show(block=False)\n",
    "plt.waitforbuttonpress()"
   ]
  }
 ],
 "metadata": {
  "kernelspec": {
   "display_name": "Python 3",
   "language": "python",
   "name": "python3"
  },
  "language_info": {
   "codemirror_mode": {
    "name": "ipython",
    "version": 3
   },
   "file_extension": ".py",
   "mimetype": "text/x-python",
   "name": "python",
   "nbconvert_exporter": "python",
   "pygments_lexer": "ipython3",
   "version": "3.10.2"
  },
  "orig_nbformat": 4,
  "vscode": {
   "interpreter": {
    "hash": "27f6fea6f47ae512550f0b8facdbd035a93e1dd89633f7bf2dd00a2502c71d0d"
   }
  }
 },
 "nbformat": 4,
 "nbformat_minor": 2
}
